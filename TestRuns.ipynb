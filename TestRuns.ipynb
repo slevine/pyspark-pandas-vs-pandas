{
 "cells": [
  {
   "cell_type": "markdown",
   "id": "ffb5b0bf-24ac-40bc-ba08-3ac27411e484",
   "metadata": {},
   "source": [
    "## Pandas"
   ]
  },
  {
   "cell_type": "code",
   "execution_count": 1,
   "id": "1045b947-ba19-4429-b388-7bdd56c42e61",
   "metadata": {},
   "outputs": [
    {
     "name": "stdout",
     "output_type": "stream",
     "text": [
      "DF has 63908140 rows.\n",
      "                           total_amount  fare_amount  tolls_amount  \\\n",
      "PULocationID DOLocationID                                            \n",
      "132          265             7844322.75   6630563.49     331608.93   \n",
      "             230             6711888.08   4896347.02     580221.42   \n",
      "264          264             6138857.16   4620833.45     115205.80   \n",
      "132          48              5030967.64   3698064.12     432742.37   \n",
      "             132             3632006.46   2979093.82      59908.99   \n",
      "237          236             5148521.76   2885930.33        157.61   \n",
      "132          164             3897581.91   2801727.08     345591.71   \n",
      "138          230             4160577.10   2743316.75     488300.84   \n",
      "236          237             4623748.88   2676135.43        233.43   \n",
      "132          170             3561579.84   2563033.74     315306.64   \n",
      "\n",
      "                           tip_amount  congestion_surcharge  trip_distance  \n",
      "PULocationID DOLocationID                                                   \n",
      "132          265            705419.03               7492.50      22.037511  \n",
      "             230            731915.43             232930.25      18.296969  \n",
      "264          264            778817.41             319950.00       3.175256  \n",
      "132          48             525715.76             175940.00      18.537273  \n",
      "             132            391418.84               8122.50       2.439654  \n",
      "237          236            697629.42            1069527.50       1.092710  \n",
      "132          164            464287.08             133340.50      17.444147  \n",
      "138          230            558324.14             194437.50      10.479274  \n",
      "236          237            620764.49             913870.00       1.164820  \n",
      "132          170            428129.04             121200.00      17.083025  \n",
      "Runtime: 0:00:11.560800\n"
     ]
    }
   ],
   "source": [
    "from datetime import datetime\n",
    "from glob import glob\n",
    "\n",
    "from pandas import concat\n",
    "from pandas import read_parquet\n",
    "\n",
    "start = datetime.now()\n",
    "\n",
    "df = concat(map(read_parquet, glob(\"./data/yellow_tripdata_202*-*.parquet\")))\n",
    "\n",
    "print(f\"DF has {len(df)} rows.\")\n",
    "\n",
    "res = (\n",
    "    df.groupby([\"PULocationID\", \"DOLocationID\"])\n",
    "    .agg(\n",
    "        {\n",
    "            \"total_amount\": \"sum\",\n",
    "            \"fare_amount\": \"sum\",\n",
    "            \"tolls_amount\": \"sum\",\n",
    "            \"tip_amount\": \"sum\",\n",
    "            \"congestion_surcharge\": \"sum\",\n",
    "            \"trip_distance\": \"mean\",\n",
    "        }\n",
    "    )\n",
    "    .sort_values(by=\"fare_amount\", ascending=False)\n",
    "    .head(10)\n",
    ")\n",
    "print(res)\n",
    "print(f\"Runtime: {datetime.now() - start}\")"
   ]
  },
  {
   "cell_type": "markdown",
   "id": "50908c78-5edb-46c6-adbb-a585fd6ec737",
   "metadata": {},
   "source": [
    "## Polars\n",
    "\n",
    "### Note: Restarted the kernel here."
   ]
  },
  {
   "cell_type": "code",
   "execution_count": 1,
   "id": "18bf738f-aa66-4a2e-9887-326698f51b48",
   "metadata": {},
   "outputs": [
    {
     "name": "stdout",
     "output_type": "stream",
     "text": [
      "DF has 63908140 rows.\n",
      "shape: (10, 8)\n",
      "┌────────────┬────────────┬────────────┬───────────┬────────────┬──────────┬────────────┬────────────┐\n",
      "│ DOLocation ┆ PULocation ┆ total_amou ┆ fare_amou ┆ tolls_amou ┆ tip_amou ┆ congestion ┆ trip_dista │\n",
      "│ ID         ┆ ID         ┆ nt         ┆ nt        ┆ nt         ┆ nt       ┆ _surcharge ┆ nce        │\n",
      "│ ---        ┆ ---        ┆ ---        ┆ ---       ┆ ---        ┆ ---      ┆ ---        ┆ ---        │\n",
      "│ i64        ┆ i64        ┆ f64        ┆ f64       ┆ f64        ┆ f64      ┆ f64        ┆ f64        │\n",
      "╞════════════╪════════════╪════════════╪═══════════╪════════════╪══════════╪════════════╪════════════╡\n",
      "│ 265        ┆ 132        ┆ 7.8443e6   ┆ 6.6306e6  ┆ 331608.93  ┆ 705419.0 ┆ 7492.5     ┆ 22.037511  │\n",
      "│            ┆            ┆            ┆           ┆            ┆ 3        ┆            ┆            │\n",
      "│ 230        ┆ 132        ┆ 6.7119e6   ┆ 4.8963e6  ┆ 580221.42  ┆ 731915.4 ┆ 232930.25  ┆ 18.296969  │\n",
      "│            ┆            ┆            ┆           ┆            ┆ 3        ┆            ┆            │\n",
      "│ 264        ┆ 264        ┆ 6.1389e6   ┆ 4.6208e6  ┆ 115205.8   ┆ 778817.4 ┆ 319950.0   ┆ 3.175256   │\n",
      "│            ┆            ┆            ┆           ┆            ┆ 1        ┆            ┆            │\n",
      "│ 48         ┆ 132        ┆ 5.0310e6   ┆ 3.6981e6  ┆ 432742.37  ┆ 525715.7 ┆ 175940.0   ┆ 18.537273  │\n",
      "│            ┆            ┆            ┆           ┆            ┆ 6        ┆            ┆            │\n",
      "│ ...        ┆ ...        ┆ ...        ┆ ...       ┆ ...        ┆ ...      ┆ ...        ┆ ...        │\n",
      "│ 164        ┆ 132        ┆ 3.8976e6   ┆ 2.8017e6  ┆ 345591.71  ┆ 464287.0 ┆ 133340.5   ┆ 17.444147  │\n",
      "│            ┆            ┆            ┆           ┆            ┆ 8        ┆            ┆            │\n",
      "│ 230        ┆ 138        ┆ 4.1606e6   ┆ 2.7433e6  ┆ 488300.839 ┆ 558324.1 ┆ 194437.5   ┆ 10.479274  │\n",
      "│            ┆            ┆            ┆           ┆ 999        ┆ 4        ┆            ┆            │\n",
      "│ 237        ┆ 236        ┆ 4.6237e6   ┆ 2.6761e6  ┆ 233.43     ┆ 620764.4 ┆ 913870.0   ┆ 1.16482    │\n",
      "│            ┆            ┆            ┆           ┆            ┆ 9        ┆            ┆            │\n",
      "│ 170        ┆ 132        ┆ 3.5616e6   ┆ 2.5630e6  ┆ 315306.64  ┆ 428129.0 ┆ 121200.0   ┆ 17.083025  │\n",
      "│            ┆            ┆            ┆           ┆            ┆ 4        ┆            ┆            │\n",
      "└────────────┴────────────┴────────────┴───────────┴────────────┴──────────┴────────────┴────────────┘\n",
      "Runtime: 0:00:03.455581\n"
     ]
    }
   ],
   "source": [
    "import polars as pl\n",
    "from datetime import datetime\n",
    "\n",
    "start = datetime.now()\n",
    "\n",
    "df = pl.read_parquet(\"./data/yellow_tripdata_202*-*.parquet\")\n",
    "\n",
    "print(f\"DF has {len(df)} rows.\")\n",
    "\n",
    "res = (\n",
    "    df.groupby([\"DOLocationID\",\"PULocationID\"],False)\n",
    "    .agg([\n",
    "        pl.col(\"total_amount\").sum(),\n",
    "        pl.col(\"fare_amount\").sum(),\n",
    "        pl.col(\"tolls_amount\").sum(),\n",
    "        pl.col(\"tip_amount\").sum(),\n",
    "        pl.col(\"congestion_surcharge\").sum(),\n",
    "        pl.col(\"trip_distance\").mean()\n",
    "    ])\n",
    "    .sort(\"fare_amount\", reverse=True)\n",
    "    .limit(10)\n",
    ")\n",
    "print(res)\n",
    "print(f\"Runtime: {datetime.now() - start}\")"
   ]
  },
  {
   "cell_type": "markdown",
   "id": "127a2da9-9ccf-4ace-b249-649367b0f6be",
   "metadata": {},
   "source": [
    "## PySpark Pandas\n",
    "\n",
    "### Note: Restarted Kernel here."
   ]
  },
  {
   "cell_type": "code",
   "execution_count": 1,
   "id": "6f8ddc54-a078-44b4-8499-6a0d10a34b7c",
   "metadata": {},
   "outputs": [
    {
     "name": "stderr",
     "output_type": "stream",
     "text": [
      "[Stage 4:============================================>            (11 + 3) / 14]\r"
     ]
    },
    {
     "name": "stdout",
     "output_type": "stream",
     "text": [
      "                           total_amount  fare_amount  tolls_amount  tip_amount  congestion_surcharge  trip_distance\n",
      "PULocationID DOLocationID                                                                                          \n",
      "132          265           7.844323e+06   6630563.49     331608.93   705419.03               7492.50      22.037511\n",
      "             230           6.711888e+06   4896347.02     580221.42   731915.43             232930.25      18.296969\n",
      "264          264           6.138857e+06   4620833.45     115205.80   778817.41             319950.00       3.175256\n",
      "132          48            5.030968e+06   3698064.12     432742.37   525715.76             175940.00      18.537273\n",
      "             132           3.632006e+06   2979093.82      59908.99   391418.84               8122.50       2.439654\n",
      "237          236           5.148522e+06   2885930.33        157.61   697629.42            1069527.50       1.092710\n",
      "132          164           3.897582e+06   2801727.08     345591.71   464287.08             133340.50      17.444147\n",
      "138          230           4.160577e+06   2743316.75     488300.84   558324.14             194437.50      10.479274\n",
      "236          237           4.623749e+06   2676135.43        233.43   620764.49             913870.00       1.164820\n",
      "132          170           3.561580e+06   2563033.74     315306.64   428129.04             121200.00      17.083025\n",
      "Runtime: 0:00:06.560401\n"
     ]
    },
    {
     "name": "stderr",
     "output_type": "stream",
     "text": [
      "                                                                                \r"
     ]
    }
   ],
   "source": [
    "from datetime import datetime\n",
    "\n",
    "from pyspark.pandas import read_parquet\n",
    "\n",
    "start = datetime.now()\n",
    "\n",
    "df = read_parquet(\"./data/yellow_tripdata_202*-*.parquet\")\n",
    "\n",
    "print(f\"DF has {len(df)} rows.\")\n",
    "\n",
    "res = (\n",
    "    df.groupby([\"PULocationID\", \"DOLocationID\"])\n",
    "    .agg(\n",
    "        {\n",
    "            \"total_amount\": \"sum\",\n",
    "            \"fare_amount\": \"sum\",\n",
    "            \"tolls_amount\": \"sum\",\n",
    "            \"tip_amount\": \"sum\",\n",
    "            \"congestion_surcharge\": \"sum\",\n",
    "            \"trip_distance\": \"mean\",\n",
    "        }\n",
    "    )\n",
    "    .sort_values(by=\"fare_amount\", ascending=False)\n",
    "    .head(10)\n",
    ")\n",
    "print(res)\n",
    "print(f\"Runtime: {datetime.now() - start}\")"
   ]
  }
 ],
 "metadata": {
  "kernelspec": {
   "display_name": "Python 3 (ipykernel)",
   "language": "python",
   "name": "python3"
  },
  "language_info": {
   "codemirror_mode": {
    "name": "ipython",
    "version": 3
   },
   "file_extension": ".py",
   "mimetype": "text/x-python",
   "name": "python",
   "nbconvert_exporter": "python",
   "pygments_lexer": "ipython3",
   "version": "3.10.8"
  }
 },
 "nbformat": 4,
 "nbformat_minor": 5
}
