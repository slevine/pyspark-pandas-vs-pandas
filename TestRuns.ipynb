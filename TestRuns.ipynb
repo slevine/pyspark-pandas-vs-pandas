{
 "cells": [
  {
   "cell_type": "markdown",
   "id": "ffb5b0bf-24ac-40bc-ba08-3ac27411e484",
   "metadata": {},
   "source": [
    "## Pandas"
   ]
  },
  {
   "cell_type": "code",
   "execution_count": 1,
   "id": "1045b947-ba19-4429-b388-7bdd56c42e61",
   "metadata": {},
   "outputs": [
    {
     "name": "stdout",
     "output_type": "stream",
     "text": [
      "DF has 70560406 rows.\n",
      "                           total_amount  fare_amount  tolls_amount  \\\n",
      "PULocationID DOLocationID                                            \n",
      "132          265             8790934.51   7422390.32     374067.16   \n",
      "             230             7894806.99   5770019.47     677238.74   \n",
      "264          264             6979146.58   5237721.48     132240.98   \n",
      "132          48              5809088.05   4275710.82     496605.18   \n",
      "             132             4293873.70   3524985.16      69755.77   \n",
      "             164             4510414.60   3247564.82     397416.61   \n",
      "138          230             4889752.34   3229509.35     565195.92   \n",
      "237          236             5733423.01   3215118.36        191.12   \n",
      "236          237             5143731.00   2978173.55        255.04   \n",
      "132          170             4112882.90   2963877.08     361501.95   \n",
      "\n",
      "                           tip_amount  congestion_surcharge  trip_distance  \n",
      "PULocationID DOLocationID                                                   \n",
      "132          265            795700.48               8743.25      21.956994  \n",
      "             230            856887.87             271995.25      18.305493  \n",
      "264          264            888590.87             373987.50       3.256247  \n",
      "132          48             605372.31             201617.50      18.533374  \n",
      "             132            463964.71               9502.50       2.306788  \n",
      "             164            535699.93             153245.50      17.439196  \n",
      "138          230            658726.95             224610.00      10.480836  \n",
      "237          236            778307.03            1184262.50       1.093344  \n",
      "236          237            691773.73            1010782.50       1.156337  \n",
      "132          170            493218.45             138960.00      17.076423  \n",
      "Runtime: 0:00:11.137031\n"
     ]
    }
   ],
   "source": [
    "from datetime import datetime\n",
    "from glob import glob\n",
    "\n",
    "from pandas import concat\n",
    "from pandas import read_parquet\n",
    "\n",
    "start = datetime.now()\n",
    "\n",
    "df = concat(map(read_parquet, glob(\"./data/yellow_tripdata_202*-*.parquet\")))\n",
    "\n",
    "print(f\"DF has {len(df)} rows.\")\n",
    "\n",
    "res = (\n",
    "    df.groupby([\"PULocationID\", \"DOLocationID\"])\n",
    "    .agg(\n",
    "        {\n",
    "            \"total_amount\": \"sum\",\n",
    "            \"fare_amount\": \"sum\",\n",
    "            \"tolls_amount\": \"sum\",\n",
    "            \"tip_amount\": \"sum\",\n",
    "            \"congestion_surcharge\": \"sum\",\n",
    "            \"trip_distance\": \"mean\",\n",
    "        }\n",
    "    )\n",
    "    .sort_values(by=\"fare_amount\", ascending=False)\n",
    "    .head(10)\n",
    ")\n",
    "print(res)\n",
    "print(f\"Runtime: {datetime.now() - start}\")"
   ]
  },
  {
   "cell_type": "markdown",
   "id": "50908c78-5edb-46c6-adbb-a585fd6ec737",
   "metadata": {},
   "source": [
    "## Polars\n",
    "\n",
    "### Note: Restarted the kernel here."
   ]
  },
  {
   "cell_type": "code",
   "execution_count": 1,
   "id": "e66661ac-9d7c-4456-bd7a-913c1ff2aa1f",
   "metadata": {},
   "outputs": [
    {
     "name": "stdout",
     "output_type": "stream",
     "text": [
      "DF has 70560406 rows.\n",
      "shape: (52_878, 8)\n",
      "┌────────────┬────────────┬────────────┬───────────┬───────────┬───────────┬───────────┬───────────┐\n",
      "│ PULocation ┆ DOLocation ┆ total_amou ┆ fare_amou ┆ tolls_amo ┆ tip_amoun ┆ congestio ┆ trip_dist │\n",
      "│ ID         ┆ ID         ┆ nt         ┆ nt        ┆ unt       ┆ t         ┆ n_surchar ┆ ance      │\n",
      "│ ---        ┆ ---        ┆ ---        ┆ ---       ┆ ---       ┆ ---       ┆ ge        ┆ ---       │\n",
      "│ i64        ┆ i64        ┆ f64        ┆ f64       ┆ f64       ┆ f64       ┆ ---       ┆ f64       │\n",
      "│            ┆            ┆            ┆           ┆           ┆           ┆ f64       ┆           │\n",
      "╞════════════╪════════════╪════════════╪═══════════╪═══════════╪═══════════╪═══════════╪═══════════╡\n",
      "│ 132        ┆ 265        ┆ 8.7909e6   ┆ 7.4224e6  ┆ 374067.16 ┆ 795700.48 ┆ 8743.25   ┆ 21.956994 │\n",
      "│ 132        ┆ 230        ┆ 7.8948e6   ┆ 5.7700e6  ┆ 677238.74 ┆ 856887.87 ┆ 271995.25 ┆ 18.305493 │\n",
      "│ 264        ┆ 264        ┆ 6.9791e6   ┆ 5.2377e6  ┆ 132240.98 ┆ 888590.87 ┆ 373987.5  ┆ 3.256247  │\n",
      "│ 132        ┆ 48         ┆ 5.8091e6   ┆ 4.2757e6  ┆ 496605.17 ┆ 605372.31 ┆ 201617.5  ┆ 18.533374 │\n",
      "│            ┆            ┆            ┆           ┆ 9999      ┆           ┆           ┆           │\n",
      "│ …          ┆ …          ┆ …          ┆ …         ┆ …         ┆ …         ┆ …         ┆ …         │\n",
      "│ 80         ┆ 9          ┆ -54.01     ┆ -53.21    ┆ 0.0       ┆ 0.0       ┆ 0.0       ┆ 9.67      │\n",
      "│ 69         ┆ 214        ┆ -76.63     ┆ -66.78    ┆ -6.55     ┆ 0.0       ┆ -2.5      ┆ 24.12     │\n",
      "│ 107        ┆ 107        ┆ 617147.4   ┆ -4.4096e7 ┆ 3784.77   ┆ 4.4538e7  ┆ 114990.75 ┆ 4.125052  │\n",
      "│ 162        ┆ 162        ┆ 892581.95  ┆ -1.3285e8 ┆ 5303.02   ┆ 1.3350e8  ┆ 157359.0  ┆ 2.029948  │\n",
      "└────────────┴────────────┴────────────┴───────────┴───────────┴───────────┴───────────┴───────────┘\n",
      "Runtime: 0:00:06.797313\n"
     ]
    }
   ],
   "source": [
    "import polars as pl\n",
    "from datetime import datetime\n",
    "\n",
    "start = datetime.now()\n",
    "\n",
    "df = pl.read_parquet(\"./data/yellow_tripdata_202*-*.parquet\")\n",
    "\n",
    "print(f\"DF has {len(df)} rows.\")\n",
    "\n",
    "res = (\n",
    "    df.group_by([\"PULocationID\", \"DOLocationID\"])\n",
    "    .agg(\n",
    "        [\n",
    "            pl.col(\"total_amount\").sum(),\n",
    "            pl.col(\"fare_amount\").sum(),\n",
    "            pl.col(\"tolls_amount\").sum(),\n",
    "            pl.col(\"tip_amount\").sum(),\n",
    "            pl.col(\"congestion_surcharge\").sum(),\n",
    "            pl.col(\"trip_distance\").mean()\n",
    "        ]\n",
    "    )\n",
    "    .sort(by=\"fare_amount\")\n",
    "    .reverse()\n",
    ")\n",
    "\n",
    "print(res)\n",
    "\n",
    "print(f\"Runtime: {datetime.now() - start}\")"
   ]
  },
  {
   "cell_type": "markdown",
   "id": "127a2da9-9ccf-4ace-b249-649367b0f6be",
   "metadata": {},
   "source": [
    "## PySpark Pandas\n",
    "\n",
    "### Note: Restarted Kernel here."
   ]
  },
  {
   "cell_type": "code",
   "execution_count": 1,
   "id": "6f8ddc54-a078-44b4-8499-6a0d10a34b7c",
   "metadata": {},
   "outputs": [
    {
     "name": "stderr",
     "output_type": "stream",
     "text": [
      "/Users/selevine/Projects/github/pyspark-pandas-vs-pandas/.venv/lib/python3.11/site-packages/pyspark/pandas/__init__.py:49: UserWarning: 'PYARROW_IGNORE_TIMEZONE' environment variable was not set. It is required to set this environment variable to '1' in both driver and executor sides if you use pyarrow>=2.0.0. pandas-on-Spark will set it for you but it does not work if there is a Spark context already launched.\n",
      "  warnings.warn(\n",
      "/Users/selevine/Projects/github/pyspark-pandas-vs-pandas/.venv/lib/python3.11/site-packages/pyspark/pandas/utils.py:975: PandasAPIOnSparkAdviceWarning: If `index_col` is not specified for `read_parquet`, the default index is attached which can cause additional overhead.\n",
      "  warnings.warn(message, PandasAPIOnSparkAdviceWarning)\n"
     ]
    },
    {
     "name": "stdout",
     "output_type": "stream",
     "text": [
      "23/12/17 20:53:34 WARN Utils: Your hostname, romulus-arm.local resolves to a loopback address: 127.0.0.1; using 192.168.4.105 instead (on interface en0)\n",
      "23/12/17 20:53:34 WARN Utils: Set SPARK_LOCAL_IP if you need to bind to another address\n"
     ]
    },
    {
     "name": "stderr",
     "output_type": "stream",
     "text": [
      "Setting default log level to \"WARN\".\n",
      "To adjust logging level use sc.setLogLevel(newLevel). For SparkR, use setLogLevel(newLevel).\n"
     ]
    },
    {
     "name": "stdout",
     "output_type": "stream",
     "text": [
      "23/12/17 20:53:34 WARN NativeCodeLoader: Unable to load native-hadoop library for your platform... using builtin-java classes where applicable\n",
      "DF has 70560406 rows.\n"
     ]
    },
    {
     "name": "stderr",
     "output_type": "stream",
     "text": [
      "[Stage 4:===================================================>     (10 + 1) / 11]\r"
     ]
    },
    {
     "name": "stdout",
     "output_type": "stream",
     "text": [
      "                           total_amount  fare_amount  tolls_amount  tip_amount  congestion_surcharge  trip_distance\n",
      "PULocationID DOLocationID                                                                                          \n",
      "132          265           8.790935e+06   7422390.32     374067.16   795700.48               8743.25      21.956994\n",
      "             230           7.894807e+06   5770019.47     677238.74   856887.87             271995.25      18.305493\n",
      "264          264           6.979147e+06   5237721.48     132240.98   888590.87             373987.50       3.256247\n",
      "132          48            5.809088e+06   4275710.82     496605.18   605372.31             201617.50      18.533374\n",
      "             132           4.293874e+06   3524985.16      69755.77   463964.71               9502.50       2.306788\n",
      "             164           4.510415e+06   3247564.82     397416.61   535699.93             153245.50      17.439196\n",
      "138          230           4.889752e+06   3229509.35     565195.92   658726.95             224610.00      10.480836\n",
      "237          236           5.733423e+06   3215118.36        191.12   778307.03            1184262.50       1.093344\n",
      "236          237           5.143731e+06   2978173.55        255.04   691773.73            1010782.50       1.156337\n",
      "132          170           4.112883e+06   2963877.08     361501.95   493218.45             138960.00      17.076423\n",
      "Runtime: 0:00:07.084362\n"
     ]
    },
    {
     "name": "stderr",
     "output_type": "stream",
     "text": [
      "                                                                                \r"
     ]
    }
   ],
   "source": [
    "from datetime import datetime\n",
    "\n",
    "from pyspark.pandas import read_parquet\n",
    "\n",
    "start = datetime.now()\n",
    "\n",
    "df = read_parquet(\"./data/yellow_tripdata_202*-*.parquet\")\n",
    "\n",
    "print(f\"DF has {len(df)} rows.\")\n",
    "\n",
    "res = (\n",
    "    df.groupby([\"PULocationID\", \"DOLocationID\"])\n",
    "    .agg(\n",
    "        {\n",
    "            \"total_amount\": \"sum\",\n",
    "            \"fare_amount\": \"sum\",\n",
    "            \"tolls_amount\": \"sum\",\n",
    "            \"tip_amount\": \"sum\",\n",
    "            \"congestion_surcharge\": \"sum\",\n",
    "            \"trip_distance\": \"mean\",\n",
    "        }\n",
    "    )\n",
    "    .sort_values(by=\"fare_amount\", ascending=False)\n",
    "    .head(10)\n",
    ")\n",
    "print(res)\n",
    "print(f\"Runtime: {datetime.now() - start}\")"
   ]
  },
  {
   "cell_type": "markdown",
   "id": "ffeb4fc4-0a93-42dd-bc97-929ffe8c4e9f",
   "metadata": {},
   "source": [
    "## PySpark Dataframes\n",
    "\n",
    "### Note: Restarted Kernel here."
   ]
  },
  {
   "cell_type": "code",
   "execution_count": 1,
   "id": "d82105cc-1d8d-478a-bd62-c8ec12166601",
   "metadata": {},
   "outputs": [
    {
     "name": "stdout",
     "output_type": "stream",
     "text": [
      "23/12/17 20:54:57 WARN Utils: Your hostname, romulus-arm.local resolves to a loopback address: 127.0.0.1; using 192.168.4.105 instead (on interface en0)\n",
      "23/12/17 20:54:57 WARN Utils: Set SPARK_LOCAL_IP if you need to bind to another address\n"
     ]
    },
    {
     "name": "stderr",
     "output_type": "stream",
     "text": [
      "Setting default log level to \"WARN\".\n",
      "To adjust logging level use sc.setLogLevel(newLevel). For SparkR, use setLogLevel(newLevel).\n"
     ]
    },
    {
     "name": "stdout",
     "output_type": "stream",
     "text": [
      "23/12/17 20:54:57 WARN NativeCodeLoader: Unable to load native-hadoop library for your platform... using builtin-java classes where applicable\n",
      "DF has 70560406 rows.\n"
     ]
    },
    {
     "name": "stderr",
     "output_type": "stream",
     "text": [
      "[Stage 4:===================================================>     (10 + 1) / 11]\r"
     ]
    },
    {
     "name": "stdout",
     "output_type": "stream",
     "text": [
      "+------------+------------+------------------+------------------+------------------+------------------+-------------------------+------------------+\n",
      "|PULocationID|DOLocationID| sum(total_amount)|  sum(fare_amount)| sum(tolls_amount)|   sum(tip_amount)|sum(congestion_surcharge)|avg(trip_distance)|\n",
      "+------------+------------+------------------+------------------+------------------+------------------+-------------------------+------------------+\n",
      "|         132|         265| 8790934.510000236| 7422390.320000001| 374067.1600000008| 795700.4800000027|                  8743.25|21.956994294661445|\n",
      "|         132|         230| 7894806.989998972|        5770019.47| 677238.7400001296| 856887.8699999934|                271995.25| 18.30549332223389|\n",
      "|         264|         264|6979146.5800001435| 5237721.479999993|132240.97999999748| 888590.8700000198|                 373987.5|3.2562468018918778|\n",
      "|         132|          48| 5809088.049999422|        4275710.82| 496605.1800000536| 605372.3100000018|                 201617.5| 18.53337386798331|\n",
      "|         132|         132| 4293873.699999663| 3524985.159999996| 69755.77000000024| 463964.7100000004|                   9502.5| 2.306787751783676|\n",
      "|         132|         164| 4510414.599999686|3247564.8200000003|397416.61000002164| 535699.9300000014|                 153245.5|17.439196178712713|\n",
      "|         138|         230| 4889752.339999689|3229509.3500000006| 565195.9200000844| 658726.9499999994|                 224610.0|10.480836035837974|\n",
      "|         237|         236| 5733423.009999143|3215118.3600000055|            191.12| 778307.0300000329|                1184262.5|1.0933443014330708|\n",
      "|         236|         237|  5143730.99999901|2978173.5500000035|255.04000000000002| 691773.7300000201|                1010782.5| 1.156337053808498|\n",
      "|         132|         170|4112882.8999997615|2963877.0799999996| 361501.9500000055|493218.45000000193|                 138960.0|17.076423019300243|\n",
      "+------------+------------+------------------+------------------+------------------+------------------+-------------------------+------------------+\n",
      "only showing top 10 rows\n",
      "\n",
      "Runtime: 0:00:04.765913\n"
     ]
    },
    {
     "name": "stderr",
     "output_type": "stream",
     "text": [
      "                                                                                \r"
     ]
    }
   ],
   "source": [
    "from datetime import datetime\n",
    "\n",
    "from pyspark.sql import SparkSession\n",
    "from pyspark.sql.functions import *\n",
    "\n",
    "spark = SparkSession.builder.appName(\"ReadTaxi\").getOrCreate()\n",
    "\n",
    "start = datetime.now()\n",
    "\n",
    "df = spark.read.parquet(\"./data/yellow_tripdata_202*-*.parquet\")\n",
    "\n",
    "print(f\"DF has {df.count()} rows.\")\n",
    "\n",
    "res = (df.groupby([\"PULocationID\", \"DOLocationID\"]).agg(\n",
    "    sum(\"total_amount\"),\n",
    "    sum(\"fare_amount\"),\n",
    "    sum(\"tolls_amount\"),\n",
    "    sum(\"tip_amount\"),\n",
    "    sum(\"congestion_surcharge\"),\n",
    "    mean(\"trip_distance\")\n",
    ").sort(desc(sum(\"fare_amount\"))).show(10))\n",
    "\n",
    "print(f\"Runtime: {datetime.now() - start}\")"
   ]
  }
 ],
 "metadata": {
  "kernelspec": {
   "display_name": "Python 3 (ipykernel)",
   "language": "python",
   "name": "python3"
  },
  "language_info": {
   "codemirror_mode": {
    "name": "ipython",
    "version": 3
   },
   "file_extension": ".py",
   "mimetype": "text/x-python",
   "name": "python",
   "nbconvert_exporter": "python",
   "pygments_lexer": "ipython3",
   "version": "3.11.1"
  }
 },
 "nbformat": 4,
 "nbformat_minor": 5
}
